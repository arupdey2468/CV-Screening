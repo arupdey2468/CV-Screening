{
 "cells": [
  {
   "cell_type": "code",
   "execution_count": 1,
   "id": "d5147ce8",
   "metadata": {
    "scrolled": true
   },
   "outputs": [
    {
     "name": "stdout",
     "output_type": "stream",
     "text": [
      "Defaulting to user installation because normal site-packages is not writeable\n",
      "Requirement already satisfied: PyPDF2 in c:\\users\\arupd\\appdata\\roaming\\python\\python39\\site-packages (3.0.1)\n",
      "Requirement already satisfied: typing_extensions>=3.10.0.0 in c:\\programdata\\anaconda3\\lib\\site-packages (from PyPDF2) (4.3.0)\n",
      "Defaulting to user installation because normal site-packages is not writeable\n",
      "Requirement already satisfied: textract in c:\\users\\arupd\\appdata\\roaming\\python\\python39\\site-packages (1.6.5)\n",
      "Requirement already satisfied: docx2txt~=0.8 in c:\\users\\arupd\\appdata\\roaming\\python\\python39\\site-packages (from textract) (0.8)\n",
      "Requirement already satisfied: pdfminer.six==20191110 in c:\\users\\arupd\\appdata\\roaming\\python\\python39\\site-packages (from textract) (20191110)\n",
      "Requirement already satisfied: python-pptx~=0.6.18 in c:\\users\\arupd\\appdata\\roaming\\python\\python39\\site-packages (from textract) (0.6.21)\n",
      "Requirement already satisfied: extract-msg<=0.29.* in c:\\users\\arupd\\appdata\\roaming\\python\\python39\\site-packages (from textract) (0.28.7)\n",
      "Requirement already satisfied: six~=1.12.0 in c:\\users\\arupd\\appdata\\roaming\\python\\python39\\site-packages (from textract) (1.12.0)\n",
      "Requirement already satisfied: argcomplete~=1.10.0 in c:\\users\\arupd\\appdata\\roaming\\python\\python39\\site-packages (from textract) (1.10.3)\n",
      "Requirement already satisfied: SpeechRecognition~=3.8.1 in c:\\users\\arupd\\appdata\\roaming\\python\\python39\\site-packages (from textract) (3.8.1)\n",
      "Requirement already satisfied: xlrd~=1.2.0 in c:\\users\\arupd\\appdata\\roaming\\python\\python39\\site-packages (from textract) (1.2.0)\n",
      "Requirement already satisfied: chardet==3.* in c:\\users\\arupd\\appdata\\roaming\\python\\python39\\site-packages (from textract) (3.0.4)\n",
      "Requirement already satisfied: beautifulsoup4~=4.8.0 in c:\\users\\arupd\\appdata\\roaming\\python\\python39\\site-packages (from textract) (4.8.2)\n",
      "Requirement already satisfied: pycryptodome in c:\\users\\arupd\\appdata\\roaming\\python\\python39\\site-packages (from pdfminer.six==20191110->textract) (3.17)\n",
      "Requirement already satisfied: sortedcontainers in c:\\programdata\\anaconda3\\lib\\site-packages (from pdfminer.six==20191110->textract) (2.4.0)\n",
      "Requirement already satisfied: soupsieve>=1.2 in c:\\programdata\\anaconda3\\lib\\site-packages (from beautifulsoup4~=4.8.0->textract) (2.3.1)\n",
      "Requirement already satisfied: imapclient==2.1.0 in c:\\users\\arupd\\appdata\\roaming\\python\\python39\\site-packages (from extract-msg<=0.29.*->textract) (2.1.0)\n",
      "Requirement already satisfied: ebcdic>=1.1.1 in c:\\users\\arupd\\appdata\\roaming\\python\\python39\\site-packages (from extract-msg<=0.29.*->textract) (1.1.1)\n",
      "Requirement already satisfied: tzlocal>=2.1 in c:\\users\\arupd\\appdata\\roaming\\python\\python39\\site-packages (from extract-msg<=0.29.*->textract) (4.2)\n",
      "Requirement already satisfied: olefile>=0.46 in c:\\programdata\\anaconda3\\lib\\site-packages (from extract-msg<=0.29.*->textract) (0.46)\n",
      "Requirement already satisfied: compressed-rtf>=1.0.6 in c:\\users\\arupd\\appdata\\roaming\\python\\python39\\site-packages (from extract-msg<=0.29.*->textract) (1.0.6)\n",
      "Requirement already satisfied: lxml>=3.1.0 in c:\\programdata\\anaconda3\\lib\\site-packages (from python-pptx~=0.6.18->textract) (4.9.1)\n",
      "Requirement already satisfied: XlsxWriter>=0.5.7 in c:\\programdata\\anaconda3\\lib\\site-packages (from python-pptx~=0.6.18->textract) (3.0.3)\n",
      "Requirement already satisfied: Pillow>=3.3.2 in c:\\programdata\\anaconda3\\lib\\site-packages (from python-pptx~=0.6.18->textract) (9.2.0)\n",
      "Requirement already satisfied: pytz-deprecation-shim in c:\\users\\arupd\\appdata\\roaming\\python\\python39\\site-packages (from tzlocal>=2.1->extract-msg<=0.29.*->textract) (0.1.0.post0)\n",
      "Requirement already satisfied: tzdata in c:\\users\\arupd\\appdata\\roaming\\python\\python39\\site-packages (from tzlocal>=2.1->extract-msg<=0.29.*->textract) (2022.7)\n",
      "Defaulting to user installation because normal site-packages is not writeable\n",
      "Requirement already satisfied: pywin32 in c:\\programdata\\anaconda3\\lib\\site-packages (302)\n"
     ]
    }
   ],
   "source": [
    "!pip install PyPDF2\n",
    "!pip install textract\n",
    "!pip install pywin32"
   ]
  },
  {
   "cell_type": "code",
   "execution_count": 2,
   "id": "4990ba8e",
   "metadata": {},
   "outputs": [],
   "source": [
    "import pandas as pd\n",
    "import PyPDF2\n",
    "import win32com.client as win32\n",
    "import textract\n",
    "import re\n",
    "import string\n",
    "import matplotlib.pyplot as plt\n",
    "%matplotlib inline\n",
    "import os "
   ]
  },
  {
   "cell_type": "code",
   "execution_count": 3,
   "id": "b27e89ba",
   "metadata": {},
   "outputs": [],
   "source": [
    "keyword=''\n",
    "with open(\"keywords.txt\", \"r+\") as file:\n",
    "    while True:\n",
    "        chunk = file.readline()\n",
    "        keyword+=chunk\n",
    "        if not chunk:\n",
    "            break"
   ]
  },
  {
   "cell_type": "code",
   "execution_count": 4,
   "id": "106a7332",
   "metadata": {},
   "outputs": [
    {
     "data": {
      "text/plain": [
       "['financial audit',\n",
       " 'financial audit',\n",
       " 'financial reporting',\n",
       " 'external audit',\n",
       " 'statutory audit',\n",
       " 'ind as',\n",
       " 'statutory ',\n",
       " 'stat audit',\n",
       " 'statutory auditor',\n",
       " 'indian gaap',\n",
       " 'statutory compliance',\n",
       " 'indian accounting',\n",
       " 'auditing',\n",
       " 'statutory reporting',\n",
       " 'external audit',\n",
       " 'chartered accountant',\n",
       " 'while']"
      ]
     },
     "execution_count": 4,
     "metadata": {},
     "output_type": "execute_result"
    }
   ],
   "source": [
    "keyword=keyword.lower()\n",
    "key = keyword.split(',')\n",
    "key"
   ]
  },
  {
   "cell_type": "code",
   "execution_count": null,
   "id": "9ed3232f",
   "metadata": {},
   "outputs": [],
   "source": []
  },
  {
   "cell_type": "code",
   "execution_count": 5,
   "id": "28ff3795",
   "metadata": {},
   "outputs": [
    {
     "data": {
      "text/plain": [
       "['Abinitio Developer_Deloitte_subhanshu.doc',\n",
       " 'Abinitio Developer_Deloitte_Suhasini.docx',\n",
       " 'Abinitio Developer_Deloitte_sunil.doc',\n",
       " 'Abinitio Developer_Deloitte_Suresh Yadav.docx',\n",
       " 'VENKATASIVARAMCH[8y_0m].doc']"
      ]
     },
     "execution_count": 5,
     "metadata": {},
     "output_type": "execute_result"
    }
   ],
   "source": [
    "all_files = os.listdir(os.getcwd())\n",
    "pdf_files = []\n",
    "doc_files = []\n",
    "\n",
    "for file in all_files:\n",
    "    if file[-3:]=='pdf':\n",
    "        pdf_files.append(file)\n",
    "    if file[-3:]=='doc' or file[-4:]=='docx':\n",
    "        doc_files.append(file)\n",
    "\n",
    "pdf_files\n",
    "doc_files"
   ]
  },
  {
   "cell_type": "code",
   "execution_count": 6,
   "id": "f69a2407",
   "metadata": {},
   "outputs": [
    {
     "data": {
      "text/plain": [
       "'file_name = Naukri.RishavJain[10y_0m].pdf  ||  relevency % = 69\\nfile_name = Naukri_AnilKumarJha[10y_0m].pdf  ||  relevency % = 69\\nfile_name = Naukri_ChandniSharma[10y_0m].pdf  ||  relevency % = 63\\nfile_name = Naukri_TwinkleRani[3y_0m].pdf  ||  relevency % = 57\\nfile_name = stat.pdf  ||  relevency % = 69\\n'"
      ]
     },
     "execution_count": 6,
     "metadata": {},
     "output_type": "execute_result"
    }
   ],
   "source": [
    "file = open(\"Result.txt\", \"w+\")\n",
    "file.close()\n",
    "for file in pdf_files:\n",
    "    file_name = file\n",
    "    pdf = open(file,'rb')\n",
    "    data = PyPDF2.PdfReader(pdf)\n",
    " \n",
    "    count = 0\n",
    "    text=\"\"\n",
    "\n",
    "    while count < len(data.pages):\n",
    "        page = data.pages[count]\n",
    "        count +=1\n",
    "        text += page.extract_text()\n",
    "\n",
    "    text = text.lower()\n",
    "    # Remove numbers\n",
    "    text = re.sub(r'\\d+','',text)\n",
    "    # Remove punctuation\n",
    "    text = text.translate(str.maketrans('','',string.punctuation))\n",
    "    \n",
    "#     print(text)\n",
    "\n",
    "    count=0\n",
    "    for i in key:\n",
    "        if i in text:\n",
    "            count+=1\n",
    "\n",
    "    match=(count*100)//len(key)\n",
    "    match+=40\n",
    "    \n",
    "#     if match >= 30:\n",
    "    file = open(\"Result.txt\", \"a+\") \n",
    "    file.write('file_name = ' + file_name + '  ||  ' + 'relevency % = ' + str(match) + '\\n')\n",
    "    file.close()\n",
    "\n",
    "\n",
    "    pdf.close()    \n",
    "    \n",
    "\n",
    "file = open(\"Result.txt\", \"r+\")\n",
    "abc=file.read()\n",
    "file.close()     \n",
    "    \n",
    "abc    \n",
    "    \n",
    "    \n",
    "    \n"
   ]
  },
  {
   "cell_type": "code",
   "execution_count": 18,
   "id": "eb590af9",
   "metadata": {},
   "outputs": [
    {
     "ename": "com_error",
     "evalue": "(-2147023170, 'The remote procedure call failed.', None, None)",
     "output_type": "error",
     "traceback": [
      "\u001b[1;31m---------------------------------------------------------------------------\u001b[0m",
      "\u001b[1;31mcom_error\u001b[0m                                 Traceback (most recent call last)",
      "\u001b[1;32m~\\AppData\\Local\\Temp\\ipykernel_32196\\3861109790.py\u001b[0m in \u001b[0;36m<module>\u001b[1;34m\u001b[0m\n\u001b[0;32m      9\u001b[0m \u001b[1;33m\u001b[0m\u001b[0m\n\u001b[0;32m     10\u001b[0m         \u001b[0mfile_path\u001b[0m \u001b[1;33m=\u001b[0m \u001b[0mos\u001b[0m\u001b[1;33m.\u001b[0m\u001b[0mpath\u001b[0m\u001b[1;33m.\u001b[0m\u001b[0mjoin\u001b[0m\u001b[1;33m(\u001b[0m\u001b[0mos\u001b[0m\u001b[1;33m.\u001b[0m\u001b[0mgetcwd\u001b[0m\u001b[1;33m(\u001b[0m\u001b[1;33m)\u001b[0m\u001b[1;33m,\u001b[0m \u001b[0mfile\u001b[0m\u001b[1;33m)\u001b[0m\u001b[1;33m\u001b[0m\u001b[1;33m\u001b[0m\u001b[0m\n\u001b[1;32m---> 11\u001b[1;33m         \u001b[0mdoc\u001b[0m \u001b[1;33m=\u001b[0m \u001b[0mword\u001b[0m\u001b[1;33m.\u001b[0m\u001b[0mDocuments\u001b[0m\u001b[1;33m.\u001b[0m\u001b[0mOpen\u001b[0m\u001b[1;33m(\u001b[0m\u001b[0mfile_path\u001b[0m\u001b[1;33m)\u001b[0m\u001b[1;33m\u001b[0m\u001b[1;33m\u001b[0m\u001b[0m\n\u001b[0m\u001b[0;32m     12\u001b[0m \u001b[1;33m\u001b[0m\u001b[0m\n\u001b[0;32m     13\u001b[0m         \u001b[0ma\u001b[0m \u001b[1;33m=\u001b[0m \u001b[0mdoc\u001b[0m\u001b[1;33m.\u001b[0m\u001b[0mContent\u001b[0m\u001b[1;33m.\u001b[0m\u001b[0mText\u001b[0m\u001b[1;33m\u001b[0m\u001b[1;33m\u001b[0m\u001b[0m\n",
      "\u001b[1;32m~\\AppData\\Local\\Temp\\gen_py\\3.9\\00020905-0000-0000-C000-000000000046x0x8x7\\Documents.py\u001b[0m in \u001b[0;36mOpen\u001b[1;34m(self, FileName, ConfirmConversions, ReadOnly, AddToRecentFiles, PasswordDocument, PasswordTemplate, Revert, WritePasswordDocument, WritePasswordTemplate, Format, Encoding, Visible, OpenAndRepair, DocumentDirection, NoEncodingDialog, XMLTransform)\u001b[0m\n\u001b[0;32m     91\u001b[0m                         \u001b[1;33m,\u001b[0m \u001b[0mFormat\u001b[0m\u001b[1;33m=\u001b[0m\u001b[0mdefaultNamedOptArg\u001b[0m\u001b[1;33m,\u001b[0m \u001b[0mEncoding\u001b[0m\u001b[1;33m=\u001b[0m\u001b[0mdefaultNamedOptArg\u001b[0m\u001b[1;33m,\u001b[0m \u001b[0mVisible\u001b[0m\u001b[1;33m=\u001b[0m\u001b[0mdefaultNamedOptArg\u001b[0m\u001b[1;33m,\u001b[0m \u001b[0mOpenAndRepair\u001b[0m\u001b[1;33m=\u001b[0m\u001b[0mdefaultNamedOptArg\u001b[0m\u001b[1;33m,\u001b[0m \u001b[0mDocumentDirection\u001b[0m\u001b[1;33m=\u001b[0m\u001b[0mdefaultNamedOptArg\u001b[0m\u001b[1;33m\u001b[0m\u001b[1;33m\u001b[0m\u001b[0m\n\u001b[0;32m     92\u001b[0m \t\t\t, NoEncodingDialog=defaultNamedOptArg, XMLTransform=defaultNamedOptArg):\n\u001b[1;32m---> 93\u001b[1;33m \t\tret = self._oleobj_.InvokeTypes(19, LCID, 1, (13, 0), ((16396, 1), (16396, 17), (16396, 17), (16396, 17), (16396, 17), (16396, 17), (16396, 17), (16396, 17), (16396, 17), (16396, 17), (16396, 17), (16396, 17), (16396, 17), (16396, 17), (16396, 17), (16396, 17)),FileName\n\u001b[0m\u001b[0;32m     94\u001b[0m                         \u001b[1;33m,\u001b[0m \u001b[0mConfirmConversions\u001b[0m\u001b[1;33m,\u001b[0m \u001b[0mReadOnly\u001b[0m\u001b[1;33m,\u001b[0m \u001b[0mAddToRecentFiles\u001b[0m\u001b[1;33m,\u001b[0m \u001b[0mPasswordDocument\u001b[0m\u001b[1;33m,\u001b[0m \u001b[0mPasswordTemplate\u001b[0m\u001b[1;33m\u001b[0m\u001b[1;33m\u001b[0m\u001b[0m\n\u001b[0;32m     95\u001b[0m                         \u001b[1;33m,\u001b[0m \u001b[0mRevert\u001b[0m\u001b[1;33m,\u001b[0m \u001b[0mWritePasswordDocument\u001b[0m\u001b[1;33m,\u001b[0m \u001b[0mWritePasswordTemplate\u001b[0m\u001b[1;33m,\u001b[0m \u001b[0mFormat\u001b[0m\u001b[1;33m,\u001b[0m \u001b[0mEncoding\u001b[0m\u001b[1;33m\u001b[0m\u001b[1;33m\u001b[0m\u001b[0m\n",
      "\u001b[1;31mcom_error\u001b[0m: (-2147023170, 'The remote procedure call failed.', None, None)"
     ]
    }
   ],
   "source": [
    "# for file in doc_files:    \n",
    "word = win32.Dispatch(\"Word.Application\")\n",
    "\n",
    "for file in os.listdir(os.getcwd()):\n",
    "    text=''\n",
    "    a=''\n",
    "    if file.endswith(\".doc\") or file.endswith(\".docx\"):\n",
    "        file_name = file\n",
    "\n",
    "        file_path = os.path.join(os.getcwd(), file)\n",
    "        doc = word.Documents.Open(file_path)\n",
    "\n",
    "        a = doc.Content.Text\n",
    "        text +=a\n",
    "\n",
    "        doc.Close()\n",
    "        word.Quit()\n",
    "\n",
    "print(text)"
   ]
  },
  {
   "cell_type": "code",
   "execution_count": null,
   "id": "c8b51157",
   "metadata": {},
   "outputs": [],
   "source": []
  },
  {
   "cell_type": "code",
   "execution_count": 16,
   "id": "2f94731b",
   "metadata": {},
   "outputs": [
    {
     "ename": "com_error",
     "evalue": "(-2147023170, 'The remote procedure call failed.', None, None)",
     "output_type": "error",
     "traceback": [
      "\u001b[1;31m---------------------------------------------------------------------------\u001b[0m",
      "\u001b[1;31mcom_error\u001b[0m                                 Traceback (most recent call last)",
      "\u001b[1;32m~\\AppData\\Local\\Temp\\ipykernel_32196\\151593586.py\u001b[0m in \u001b[0;36m<module>\u001b[1;34m\u001b[0m\n\u001b[0;32m      7\u001b[0m \u001b[1;33m\u001b[0m\u001b[0m\n\u001b[0;32m      8\u001b[0m     \u001b[0mfile_path\u001b[0m \u001b[1;33m=\u001b[0m \u001b[0mos\u001b[0m\u001b[1;33m.\u001b[0m\u001b[0mpath\u001b[0m\u001b[1;33m.\u001b[0m\u001b[0mjoin\u001b[0m\u001b[1;33m(\u001b[0m\u001b[0mos\u001b[0m\u001b[1;33m.\u001b[0m\u001b[0mgetcwd\u001b[0m\u001b[1;33m(\u001b[0m\u001b[1;33m)\u001b[0m\u001b[1;33m,\u001b[0m \u001b[0mfile\u001b[0m\u001b[1;33m)\u001b[0m\u001b[1;33m\u001b[0m\u001b[1;33m\u001b[0m\u001b[0m\n\u001b[1;32m----> 9\u001b[1;33m     \u001b[0mdoc\u001b[0m \u001b[1;33m=\u001b[0m \u001b[0mword\u001b[0m\u001b[1;33m.\u001b[0m\u001b[0mDocuments\u001b[0m\u001b[1;33m.\u001b[0m\u001b[0mOpen\u001b[0m\u001b[1;33m(\u001b[0m\u001b[0mfile_path\u001b[0m\u001b[1;33m)\u001b[0m\u001b[1;33m\u001b[0m\u001b[1;33m\u001b[0m\u001b[0m\n\u001b[0m\u001b[0;32m     10\u001b[0m \u001b[1;33m\u001b[0m\u001b[0m\n\u001b[0;32m     11\u001b[0m     \u001b[0ma\u001b[0m \u001b[1;33m=\u001b[0m \u001b[0mdoc\u001b[0m\u001b[1;33m.\u001b[0m\u001b[0mContent\u001b[0m\u001b[1;33m.\u001b[0m\u001b[0mText\u001b[0m\u001b[1;33m\u001b[0m\u001b[1;33m\u001b[0m\u001b[0m\n",
      "\u001b[1;32m~\\AppData\\Local\\Temp\\gen_py\\3.9\\00020905-0000-0000-C000-000000000046x0x8x7\\Documents.py\u001b[0m in \u001b[0;36mOpen\u001b[1;34m(self, FileName, ConfirmConversions, ReadOnly, AddToRecentFiles, PasswordDocument, PasswordTemplate, Revert, WritePasswordDocument, WritePasswordTemplate, Format, Encoding, Visible, OpenAndRepair, DocumentDirection, NoEncodingDialog, XMLTransform)\u001b[0m\n\u001b[0;32m     91\u001b[0m                         \u001b[1;33m,\u001b[0m \u001b[0mFormat\u001b[0m\u001b[1;33m=\u001b[0m\u001b[0mdefaultNamedOptArg\u001b[0m\u001b[1;33m,\u001b[0m \u001b[0mEncoding\u001b[0m\u001b[1;33m=\u001b[0m\u001b[0mdefaultNamedOptArg\u001b[0m\u001b[1;33m,\u001b[0m \u001b[0mVisible\u001b[0m\u001b[1;33m=\u001b[0m\u001b[0mdefaultNamedOptArg\u001b[0m\u001b[1;33m,\u001b[0m \u001b[0mOpenAndRepair\u001b[0m\u001b[1;33m=\u001b[0m\u001b[0mdefaultNamedOptArg\u001b[0m\u001b[1;33m,\u001b[0m \u001b[0mDocumentDirection\u001b[0m\u001b[1;33m=\u001b[0m\u001b[0mdefaultNamedOptArg\u001b[0m\u001b[1;33m\u001b[0m\u001b[1;33m\u001b[0m\u001b[0m\n\u001b[0;32m     92\u001b[0m \t\t\t, NoEncodingDialog=defaultNamedOptArg, XMLTransform=defaultNamedOptArg):\n\u001b[1;32m---> 93\u001b[1;33m \t\tret = self._oleobj_.InvokeTypes(19, LCID, 1, (13, 0), ((16396, 1), (16396, 17), (16396, 17), (16396, 17), (16396, 17), (16396, 17), (16396, 17), (16396, 17), (16396, 17), (16396, 17), (16396, 17), (16396, 17), (16396, 17), (16396, 17), (16396, 17), (16396, 17)),FileName\n\u001b[0m\u001b[0;32m     94\u001b[0m                         \u001b[1;33m,\u001b[0m \u001b[0mConfirmConversions\u001b[0m\u001b[1;33m,\u001b[0m \u001b[0mReadOnly\u001b[0m\u001b[1;33m,\u001b[0m \u001b[0mAddToRecentFiles\u001b[0m\u001b[1;33m,\u001b[0m \u001b[0mPasswordDocument\u001b[0m\u001b[1;33m,\u001b[0m \u001b[0mPasswordTemplate\u001b[0m\u001b[1;33m\u001b[0m\u001b[1;33m\u001b[0m\u001b[0m\n\u001b[0;32m     95\u001b[0m                         \u001b[1;33m,\u001b[0m \u001b[0mRevert\u001b[0m\u001b[1;33m,\u001b[0m \u001b[0mWritePasswordDocument\u001b[0m\u001b[1;33m,\u001b[0m \u001b[0mWritePasswordTemplate\u001b[0m\u001b[1;33m,\u001b[0m \u001b[0mFormat\u001b[0m\u001b[1;33m,\u001b[0m \u001b[0mEncoding\u001b[0m\u001b[1;33m\u001b[0m\u001b[1;33m\u001b[0m\u001b[0m\n",
      "\u001b[1;31mcom_error\u001b[0m: (-2147023170, 'The remote procedure call failed.', None, None)"
     ]
    }
   ],
   "source": [
    "word = win32.Dispatch(\"Word.Application\")\n",
    "\n",
    "for file in doc_files:\n",
    "    text=''\n",
    "    a=''\n",
    "    file_name = file\n",
    "\n",
    "    file_path = os.path.join(os.getcwd(), file)\n",
    "    doc = word.Documents.Open(file_path)\n",
    "\n",
    "    a = doc.Content.Text\n",
    "    text +=a\n",
    "\n",
    "    doc.Close()\n",
    "    word.Quit()\n",
    "\n",
    "print(text)"
   ]
  },
  {
   "cell_type": "code",
   "execution_count": null,
   "id": "4d55fd68",
   "metadata": {},
   "outputs": [],
   "source": []
  },
  {
   "cell_type": "code",
   "execution_count": 11,
   "id": "0caf9c03",
   "metadata": {},
   "outputs": [
    {
     "name": "stdout",
     "output_type": "stream",
     "text": [
      "['.ipynb_checkpoints', 'Abinitio Developer_Deloitte_subhanshu.doc', 'Abinitio Developer_Deloitte_Suhasini.docx', 'Abinitio Developer_Deloitte_sunil.doc', 'Abinitio Developer_Deloitte_Suresh Yadav.docx', 'CV_reading_extraction.ipynb', 'keywords.txt', 'L1_Screening_Model.ipynb', 'Naukri.RishavJain[10y_0m].pdf', 'Naukri_AnilKumarJha[10y_0m].pdf', 'Naukri_ChandniSharma[10y_0m].pdf', 'Naukri_TwinkleRani[3y_0m].pdf', 'rejected_cv', 'Result.txt', 'shorlisted_cv', 'stat.pdf', 'VENKATASIVARAMCH[8y_0m].doc']\n"
     ]
    }
   ],
   "source": [
    "print(os.listdir(os.getcwd()))"
   ]
  },
  {
   "cell_type": "code",
   "execution_count": null,
   "id": "6d707a89",
   "metadata": {},
   "outputs": [],
   "source": [
    "count=0\n",
    "for i in key:\n",
    "    if i in text:\n",
    "        count+=1\n",
    "count"
   ]
  },
  {
   "cell_type": "code",
   "execution_count": null,
   "id": "ac0be002",
   "metadata": {},
   "outputs": [],
   "source": [
    "match=(count*100)//len(key)\n",
    "match+=40"
   ]
  },
  {
   "cell_type": "code",
   "execution_count": null,
   "id": "2193381d",
   "metadata": {},
   "outputs": [],
   "source": [
    "if match >= 30:\n",
    "    file = open(\"Result.txt\", \"a+\") \n",
    "    file.write('file_name = ' + file_name + '  ||  ' + 'relevency % = ' + str(match) + '\\n')\n",
    "    file.close()\n",
    "\n"
   ]
  },
  {
   "cell_type": "code",
   "execution_count": null,
   "id": "0d253532",
   "metadata": {},
   "outputs": [],
   "source": [
    "file = open(\"Result.txt\", \"r+\")\n",
    "abc=file.read()\n",
    "file.close()\n",
    "abc"
   ]
  },
  {
   "cell_type": "code",
   "execution_count": null,
   "id": "92383822",
   "metadata": {},
   "outputs": [],
   "source": []
  }
 ],
 "metadata": {
  "kernelspec": {
   "display_name": "Python 3 (ipykernel)",
   "language": "python",
   "name": "python3"
  },
  "language_info": {
   "codemirror_mode": {
    "name": "ipython",
    "version": 3
   },
   "file_extension": ".py",
   "mimetype": "text/x-python",
   "name": "python",
   "nbconvert_exporter": "python",
   "pygments_lexer": "ipython3",
   "version": "3.9.13"
  }
 },
 "nbformat": 4,
 "nbformat_minor": 5
}
